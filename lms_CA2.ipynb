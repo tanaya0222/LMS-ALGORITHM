{
 "cells": [
  {
   "cell_type": "markdown",
   "id": "6f62071f",
   "metadata": {
    "papermill": {
     "duration": 0.009599,
     "end_time": "2024-07-31T05:16:26.810958",
     "exception": false,
     "start_time": "2024-07-31T05:16:26.801359",
     "status": "completed"
    },
    "tags": []
   },
   "source": [
    "## Data Exploration"
   ]
  },
  {
   "cell_type": "code",
   "execution_count": 37,
   "id": "b5615459",
   "metadata": {
    "_cell_guid": "b1076dfc-b9ad-4769-8c92-a6c4dae69d19",
    "_uuid": "8f2839f25d086af736a60e9eeb907d3b93b6e0e5",
    "execution": {
     "iopub.execute_input": "2024-07-31T05:16:26.830344Z",
     "iopub.status.busy": "2024-07-31T05:16:26.829970Z",
     "iopub.status.idle": "2024-07-31T05:16:29.556768Z",
     "shell.execute_reply": "2024-07-31T05:16:29.555582Z"
    },
    "papermill": {
     "duration": 2.739502,
     "end_time": "2024-07-31T05:16:29.559496",
     "exception": false,
     "start_time": "2024-07-31T05:16:26.819994",
     "status": "completed"
    },
    "tags": []
   },
   "outputs": [],
   "source": [
    "# import necessary libraries\n",
    "import numpy as np\n",
    "import pandas as pd\n",
    "import matplotlib.pyplot as plt\n",
    "import seaborn as sns\n",
    "from sklearn.model_selection import train_test_split\n",
    "\n",
    "from sklearn import metrics\n",
    "\n",
    "from sklearn.preprocessing import StandardScaler\n"
   ]
  },
  {
   "cell_type": "code",
   "execution_count": 2,
   "id": "d89ed88f",
   "metadata": {
    "execution": {
     "iopub.execute_input": "2024-07-31T05:16:29.580928Z",
     "iopub.status.busy": "2024-07-31T05:16:29.579797Z",
     "iopub.status.idle": "2024-07-31T05:16:29.604405Z",
     "shell.execute_reply": "2024-07-31T05:16:29.603129Z"
    },
    "papermill": {
     "duration": 0.037928,
     "end_time": "2024-07-31T05:16:29.607190",
     "exception": false,
     "start_time": "2024-07-31T05:16:29.569262",
     "status": "completed"
    },
    "tags": []
   },
   "outputs": [],
   "source": [
    "# import dataset\n",
    "bike_dataset = pd.read_csv(\"BIKE DETAILS.csv\")"
   ]
  },
  {
   "cell_type": "code",
   "execution_count": 3,
   "id": "f7398b1d",
   "metadata": {
    "execution": {
     "iopub.execute_input": "2024-07-31T05:16:29.628452Z",
     "iopub.status.busy": "2024-07-31T05:16:29.628087Z",
     "iopub.status.idle": "2024-07-31T05:16:29.654768Z",
     "shell.execute_reply": "2024-07-31T05:16:29.653509Z"
    },
    "papermill": {
     "duration": 0.039817,
     "end_time": "2024-07-31T05:16:29.657207",
     "exception": false,
     "start_time": "2024-07-31T05:16:29.617390",
     "status": "completed"
    },
    "tags": []
   },
   "outputs": [
    {
     "data": {
      "text/html": [
       "<div>\n",
       "<style scoped>\n",
       "    .dataframe tbody tr th:only-of-type {\n",
       "        vertical-align: middle;\n",
       "    }\n",
       "\n",
       "    .dataframe tbody tr th {\n",
       "        vertical-align: top;\n",
       "    }\n",
       "\n",
       "    .dataframe thead th {\n",
       "        text-align: right;\n",
       "    }\n",
       "</style>\n",
       "<table border=\"1\" class=\"dataframe\">\n",
       "  <thead>\n",
       "    <tr style=\"text-align: right;\">\n",
       "      <th></th>\n",
       "      <th>name</th>\n",
       "      <th>selling_price</th>\n",
       "      <th>year</th>\n",
       "      <th>seller_type</th>\n",
       "      <th>owner</th>\n",
       "      <th>km_driven</th>\n",
       "      <th>ex_showroom_price</th>\n",
       "    </tr>\n",
       "  </thead>\n",
       "  <tbody>\n",
       "    <tr>\n",
       "      <th>0</th>\n",
       "      <td>Royal Enfield Classic 350</td>\n",
       "      <td>175000</td>\n",
       "      <td>2019</td>\n",
       "      <td>Individual</td>\n",
       "      <td>1st owner</td>\n",
       "      <td>350</td>\n",
       "      <td>NaN</td>\n",
       "    </tr>\n",
       "    <tr>\n",
       "      <th>1</th>\n",
       "      <td>Honda Dio</td>\n",
       "      <td>45000</td>\n",
       "      <td>2017</td>\n",
       "      <td>Individual</td>\n",
       "      <td>1st owner</td>\n",
       "      <td>5650</td>\n",
       "      <td>NaN</td>\n",
       "    </tr>\n",
       "    <tr>\n",
       "      <th>2</th>\n",
       "      <td>Royal Enfield Classic Gunmetal Grey</td>\n",
       "      <td>150000</td>\n",
       "      <td>2018</td>\n",
       "      <td>Individual</td>\n",
       "      <td>1st owner</td>\n",
       "      <td>12000</td>\n",
       "      <td>148114.0</td>\n",
       "    </tr>\n",
       "    <tr>\n",
       "      <th>3</th>\n",
       "      <td>Yamaha Fazer FI V 2.0 [2016-2018]</td>\n",
       "      <td>65000</td>\n",
       "      <td>2015</td>\n",
       "      <td>Individual</td>\n",
       "      <td>1st owner</td>\n",
       "      <td>23000</td>\n",
       "      <td>89643.0</td>\n",
       "    </tr>\n",
       "    <tr>\n",
       "      <th>4</th>\n",
       "      <td>Yamaha SZ [2013-2014]</td>\n",
       "      <td>20000</td>\n",
       "      <td>2011</td>\n",
       "      <td>Individual</td>\n",
       "      <td>2nd owner</td>\n",
       "      <td>21000</td>\n",
       "      <td>NaN</td>\n",
       "    </tr>\n",
       "  </tbody>\n",
       "</table>\n",
       "</div>"
      ],
      "text/plain": [
       "                                  name  selling_price  year seller_type  \\\n",
       "0            Royal Enfield Classic 350         175000  2019  Individual   \n",
       "1                            Honda Dio          45000  2017  Individual   \n",
       "2  Royal Enfield Classic Gunmetal Grey         150000  2018  Individual   \n",
       "3    Yamaha Fazer FI V 2.0 [2016-2018]          65000  2015  Individual   \n",
       "4                Yamaha SZ [2013-2014]          20000  2011  Individual   \n",
       "\n",
       "       owner  km_driven  ex_showroom_price  \n",
       "0  1st owner        350                NaN  \n",
       "1  1st owner       5650                NaN  \n",
       "2  1st owner      12000           148114.0  \n",
       "3  1st owner      23000            89643.0  \n",
       "4  2nd owner      21000                NaN  "
      ]
     },
     "execution_count": 3,
     "metadata": {},
     "output_type": "execute_result"
    }
   ],
   "source": [
    "# check first 5 rows\n",
    "bike_dataset.head()"
   ]
  },
  {
   "cell_type": "code",
   "execution_count": 4,
   "id": "dbef814b",
   "metadata": {
    "execution": {
     "iopub.execute_input": "2024-07-31T05:16:29.676842Z",
     "iopub.status.busy": "2024-07-31T05:16:29.676482Z",
     "iopub.status.idle": "2024-07-31T05:16:29.689423Z",
     "shell.execute_reply": "2024-07-31T05:16:29.688313Z"
    },
    "papermill": {
     "duration": 0.025469,
     "end_time": "2024-07-31T05:16:29.691798",
     "exception": false,
     "start_time": "2024-07-31T05:16:29.666329",
     "status": "completed"
    },
    "tags": []
   },
   "outputs": [
    {
     "data": {
      "text/html": [
       "<div>\n",
       "<style scoped>\n",
       "    .dataframe tbody tr th:only-of-type {\n",
       "        vertical-align: middle;\n",
       "    }\n",
       "\n",
       "    .dataframe tbody tr th {\n",
       "        vertical-align: top;\n",
       "    }\n",
       "\n",
       "    .dataframe thead th {\n",
       "        text-align: right;\n",
       "    }\n",
       "</style>\n",
       "<table border=\"1\" class=\"dataframe\">\n",
       "  <thead>\n",
       "    <tr style=\"text-align: right;\">\n",
       "      <th></th>\n",
       "      <th>name</th>\n",
       "      <th>selling_price</th>\n",
       "      <th>year</th>\n",
       "      <th>seller_type</th>\n",
       "      <th>owner</th>\n",
       "      <th>km_driven</th>\n",
       "      <th>ex_showroom_price</th>\n",
       "    </tr>\n",
       "  </thead>\n",
       "  <tbody>\n",
       "    <tr>\n",
       "      <th>1056</th>\n",
       "      <td>Activa 3g</td>\n",
       "      <td>17000</td>\n",
       "      <td>2010</td>\n",
       "      <td>Individual</td>\n",
       "      <td>1st owner</td>\n",
       "      <td>500000</td>\n",
       "      <td>52000.0</td>\n",
       "    </tr>\n",
       "    <tr>\n",
       "      <th>1057</th>\n",
       "      <td>Honda CB twister</td>\n",
       "      <td>16000</td>\n",
       "      <td>2012</td>\n",
       "      <td>Individual</td>\n",
       "      <td>1st owner</td>\n",
       "      <td>33000</td>\n",
       "      <td>51000.0</td>\n",
       "    </tr>\n",
       "    <tr>\n",
       "      <th>1058</th>\n",
       "      <td>Bajaj Discover 125</td>\n",
       "      <td>15000</td>\n",
       "      <td>2013</td>\n",
       "      <td>Individual</td>\n",
       "      <td>2nd owner</td>\n",
       "      <td>35000</td>\n",
       "      <td>57000.0</td>\n",
       "    </tr>\n",
       "    <tr>\n",
       "      <th>1059</th>\n",
       "      <td>Honda CB Shine</td>\n",
       "      <td>12000</td>\n",
       "      <td>2009</td>\n",
       "      <td>Individual</td>\n",
       "      <td>1st owner</td>\n",
       "      <td>53000</td>\n",
       "      <td>58000.0</td>\n",
       "    </tr>\n",
       "    <tr>\n",
       "      <th>1060</th>\n",
       "      <td>Bajaj Pulsar 150</td>\n",
       "      <td>10000</td>\n",
       "      <td>2008</td>\n",
       "      <td>Individual</td>\n",
       "      <td>1st owner</td>\n",
       "      <td>92233</td>\n",
       "      <td>75000.0</td>\n",
       "    </tr>\n",
       "  </tbody>\n",
       "</table>\n",
       "</div>"
      ],
      "text/plain": [
       "                    name  selling_price  year seller_type      owner  \\\n",
       "1056           Activa 3g          17000  2010  Individual  1st owner   \n",
       "1057    Honda CB twister          16000  2012  Individual  1st owner   \n",
       "1058  Bajaj Discover 125          15000  2013  Individual  2nd owner   \n",
       "1059      Honda CB Shine          12000  2009  Individual  1st owner   \n",
       "1060    Bajaj Pulsar 150          10000  2008  Individual  1st owner   \n",
       "\n",
       "      km_driven  ex_showroom_price  \n",
       "1056     500000            52000.0  \n",
       "1057      33000            51000.0  \n",
       "1058      35000            57000.0  \n",
       "1059      53000            58000.0  \n",
       "1060      92233            75000.0  "
      ]
     },
     "execution_count": 4,
     "metadata": {},
     "output_type": "execute_result"
    }
   ],
   "source": [
    "# check last 5 rows\n",
    "bike_dataset.tail()"
   ]
  },
  {
   "cell_type": "code",
   "execution_count": 5,
   "id": "5017da97",
   "metadata": {
    "execution": {
     "iopub.execute_input": "2024-07-31T05:16:29.712483Z",
     "iopub.status.busy": "2024-07-31T05:16:29.712058Z",
     "iopub.status.idle": "2024-07-31T05:16:29.718989Z",
     "shell.execute_reply": "2024-07-31T05:16:29.717895Z"
    },
    "papermill": {
     "duration": 0.01972,
     "end_time": "2024-07-31T05:16:29.721204",
     "exception": false,
     "start_time": "2024-07-31T05:16:29.701484",
     "status": "completed"
    },
    "tags": []
   },
   "outputs": [
    {
     "data": {
      "text/plain": [
       "(1061, 7)"
      ]
     },
     "execution_count": 5,
     "metadata": {},
     "output_type": "execute_result"
    }
   ],
   "source": [
    "# check number of rows and columns of dataset\n",
    "bike_dataset.shape"
   ]
  },
  {
   "cell_type": "code",
   "execution_count": 6,
   "id": "8d5cb8c9",
   "metadata": {
    "execution": {
     "iopub.execute_input": "2024-07-31T05:16:29.742463Z",
     "iopub.status.busy": "2024-07-31T05:16:29.741324Z",
     "iopub.status.idle": "2024-07-31T05:16:29.749227Z",
     "shell.execute_reply": "2024-07-31T05:16:29.748157Z"
    },
    "papermill": {
     "duration": 0.020846,
     "end_time": "2024-07-31T05:16:29.751437",
     "exception": false,
     "start_time": "2024-07-31T05:16:29.730591",
     "status": "completed"
    },
    "tags": []
   },
   "outputs": [
    {
     "data": {
      "text/plain": [
       "7427"
      ]
     },
     "execution_count": 6,
     "metadata": {},
     "output_type": "execute_result"
    }
   ],
   "source": [
    "# check product of number of rows and columns of dataset\n",
    "bike_dataset.size"
   ]
  },
  {
   "cell_type": "code",
   "execution_count": 7,
   "id": "b49b73d7",
   "metadata": {
    "execution": {
     "iopub.execute_input": "2024-07-31T05:16:29.772627Z",
     "iopub.status.busy": "2024-07-31T05:16:29.772240Z",
     "iopub.status.idle": "2024-07-31T05:16:29.779293Z",
     "shell.execute_reply": "2024-07-31T05:16:29.778194Z"
    },
    "papermill": {
     "duration": 0.020604,
     "end_time": "2024-07-31T05:16:29.781676",
     "exception": false,
     "start_time": "2024-07-31T05:16:29.761072",
     "status": "completed"
    },
    "tags": []
   },
   "outputs": [
    {
     "data": {
      "text/plain": [
       "Index(['name', 'selling_price', 'year', 'seller_type', 'owner', 'km_driven',\n",
       "       'ex_showroom_price'],\n",
       "      dtype='object')"
      ]
     },
     "execution_count": 7,
     "metadata": {},
     "output_type": "execute_result"
    }
   ],
   "source": [
    "# check the columns\n",
    "bike_dataset.columns"
   ]
  },
  {
   "cell_type": "code",
   "execution_count": 8,
   "id": "4b11a19c",
   "metadata": {
    "execution": {
     "iopub.execute_input": "2024-07-31T05:16:29.803089Z",
     "iopub.status.busy": "2024-07-31T05:16:29.802698Z",
     "iopub.status.idle": "2024-07-31T05:16:29.828096Z",
     "shell.execute_reply": "2024-07-31T05:16:29.826655Z"
    },
    "papermill": {
     "duration": 0.039464,
     "end_time": "2024-07-31T05:16:29.830891",
     "exception": false,
     "start_time": "2024-07-31T05:16:29.791427",
     "status": "completed"
    },
    "tags": []
   },
   "outputs": [
    {
     "name": "stdout",
     "output_type": "stream",
     "text": [
      "<class 'pandas.core.frame.DataFrame'>\n",
      "RangeIndex: 1061 entries, 0 to 1060\n",
      "Data columns (total 7 columns):\n",
      " #   Column             Non-Null Count  Dtype  \n",
      "---  ------             --------------  -----  \n",
      " 0   name               1061 non-null   object \n",
      " 1   selling_price      1061 non-null   int64  \n",
      " 2   year               1061 non-null   int64  \n",
      " 3   seller_type        1061 non-null   object \n",
      " 4   owner              1061 non-null   object \n",
      " 5   km_driven          1061 non-null   int64  \n",
      " 6   ex_showroom_price  626 non-null    float64\n",
      "dtypes: float64(1), int64(3), object(3)\n",
      "memory usage: 58.1+ KB\n"
     ]
    }
   ],
   "source": [
    "# check the information\n",
    "bike_dataset.info()"
   ]
  },
  {
   "cell_type": "markdown",
   "id": "688f06c9",
   "metadata": {
    "papermill": {
     "duration": 0.009712,
     "end_time": "2024-07-31T05:16:29.850599",
     "exception": false,
     "start_time": "2024-07-31T05:16:29.840887",
     "status": "completed"
    },
    "tags": []
   },
   "source": [
    "## Data Cleaning"
   ]
  },
  {
   "cell_type": "code",
   "execution_count": 9,
   "id": "f1a0fc52",
   "metadata": {
    "execution": {
     "iopub.execute_input": "2024-07-31T05:16:29.871818Z",
     "iopub.status.busy": "2024-07-31T05:16:29.871398Z",
     "iopub.status.idle": "2024-07-31T05:16:29.880148Z",
     "shell.execute_reply": "2024-07-31T05:16:29.879001Z"
    },
    "papermill": {
     "duration": 0.022061,
     "end_time": "2024-07-31T05:16:29.882544",
     "exception": false,
     "start_time": "2024-07-31T05:16:29.860483",
     "status": "completed"
    },
    "tags": []
   },
   "outputs": [
    {
     "data": {
      "text/plain": [
       "name                   0\n",
       "selling_price          0\n",
       "year                   0\n",
       "seller_type            0\n",
       "owner                  0\n",
       "km_driven              0\n",
       "ex_showroom_price    435\n",
       "dtype: int64"
      ]
     },
     "execution_count": 9,
     "metadata": {},
     "output_type": "execute_result"
    }
   ],
   "source": [
    "# check null values\n",
    "bike_dataset.isnull().sum()"
   ]
  },
  {
   "cell_type": "code",
   "execution_count": 10,
   "id": "dc07afb5",
   "metadata": {
    "execution": {
     "iopub.execute_input": "2024-07-31T05:16:29.904440Z",
     "iopub.status.busy": "2024-07-31T05:16:29.903380Z",
     "iopub.status.idle": "2024-07-31T05:16:29.912719Z",
     "shell.execute_reply": "2024-07-31T05:16:29.911629Z"
    },
    "papermill": {
     "duration": 0.02282,
     "end_time": "2024-07-31T05:16:29.915322",
     "exception": false,
     "start_time": "2024-07-31T05:16:29.892502",
     "status": "completed"
    },
    "tags": []
   },
   "outputs": [],
   "source": [
    "# drop all null values\n",
    "bike_dataset.dropna(inplace=True)"
   ]
  },
  {
   "cell_type": "code",
   "execution_count": 11,
   "id": "c09bfce4",
   "metadata": {
    "execution": {
     "iopub.execute_input": "2024-07-31T05:16:29.937770Z",
     "iopub.status.busy": "2024-07-31T05:16:29.936791Z",
     "iopub.status.idle": "2024-07-31T05:16:29.945759Z",
     "shell.execute_reply": "2024-07-31T05:16:29.944406Z"
    },
    "papermill": {
     "duration": 0.02252,
     "end_time": "2024-07-31T05:16:29.948251",
     "exception": false,
     "start_time": "2024-07-31T05:16:29.925731",
     "status": "completed"
    },
    "tags": []
   },
   "outputs": [
    {
     "data": {
      "text/plain": [
       "name                 0\n",
       "selling_price        0\n",
       "year                 0\n",
       "seller_type          0\n",
       "owner                0\n",
       "km_driven            0\n",
       "ex_showroom_price    0\n",
       "dtype: int64"
      ]
     },
     "execution_count": 11,
     "metadata": {},
     "output_type": "execute_result"
    }
   ],
   "source": [
    "# recheck null values\n",
    "bike_dataset.isnull().sum()"
   ]
  },
  {
   "cell_type": "code",
   "execution_count": 12,
   "id": "5a446b7d",
   "metadata": {
    "execution": {
     "iopub.execute_input": "2024-07-31T05:16:29.969998Z",
     "iopub.status.busy": "2024-07-31T05:16:29.969610Z",
     "iopub.status.idle": "2024-07-31T05:16:29.980151Z",
     "shell.execute_reply": "2024-07-31T05:16:29.978911Z"
    },
    "papermill": {
     "duration": 0.024369,
     "end_time": "2024-07-31T05:16:29.982717",
     "exception": false,
     "start_time": "2024-07-31T05:16:29.958348",
     "status": "completed"
    },
    "tags": []
   },
   "outputs": [
    {
     "data": {
      "text/plain": [
       "4"
      ]
     },
     "execution_count": 12,
     "metadata": {},
     "output_type": "execute_result"
    }
   ],
   "source": [
    "# check duplicate rows\n",
    "bike_dataset.duplicated().sum()"
   ]
  },
  {
   "cell_type": "code",
   "execution_count": 13,
   "id": "8096d732",
   "metadata": {
    "execution": {
     "iopub.execute_input": "2024-07-31T05:16:30.004742Z",
     "iopub.status.busy": "2024-07-31T05:16:30.004375Z",
     "iopub.status.idle": "2024-07-31T05:16:30.012572Z",
     "shell.execute_reply": "2024-07-31T05:16:30.011415Z"
    },
    "papermill": {
     "duration": 0.022113,
     "end_time": "2024-07-31T05:16:30.015158",
     "exception": false,
     "start_time": "2024-07-31T05:16:29.993045",
     "status": "completed"
    },
    "tags": []
   },
   "outputs": [],
   "source": [
    "# drop duplicate rows\n",
    "bike_dataset.drop_duplicates(inplace=True)"
   ]
  },
  {
   "cell_type": "code",
   "execution_count": 14,
   "id": "7d56c073",
   "metadata": {
    "execution": {
     "iopub.execute_input": "2024-07-31T05:16:30.037929Z",
     "iopub.status.busy": "2024-07-31T05:16:30.037395Z",
     "iopub.status.idle": "2024-07-31T05:16:30.044557Z",
     "shell.execute_reply": "2024-07-31T05:16:30.043483Z"
    },
    "papermill": {
     "duration": 0.020522,
     "end_time": "2024-07-31T05:16:30.046672",
     "exception": false,
     "start_time": "2024-07-31T05:16:30.026150",
     "status": "completed"
    },
    "tags": []
   },
   "outputs": [
    {
     "data": {
      "text/plain": [
       "(622, 7)"
      ]
     },
     "execution_count": 14,
     "metadata": {},
     "output_type": "execute_result"
    }
   ],
   "source": [
    "# recheck shape\n",
    "bike_dataset.shape"
   ]
  },
  {
   "cell_type": "markdown",
   "id": "c9612c51",
   "metadata": {
    "papermill": {
     "duration": 0.00985,
     "end_time": "2024-07-31T05:16:30.066629",
     "exception": false,
     "start_time": "2024-07-31T05:16:30.056779",
     "status": "completed"
    },
    "tags": []
   },
   "source": [
    "## Data Encoding/ Pre-Processing\n"
   ]
  },
  {
   "cell_type": "code",
   "execution_count": 15,
   "id": "f1ab4dd2",
   "metadata": {
    "execution": {
     "iopub.execute_input": "2024-07-31T05:16:30.089236Z",
     "iopub.status.busy": "2024-07-31T05:16:30.088820Z",
     "iopub.status.idle": "2024-07-31T05:16:30.097246Z",
     "shell.execute_reply": "2024-07-31T05:16:30.096095Z"
    },
    "papermill": {
     "duration": 0.022825,
     "end_time": "2024-07-31T05:16:30.100089",
     "exception": false,
     "start_time": "2024-07-31T05:16:30.077264",
     "status": "completed"
    },
    "tags": []
   },
   "outputs": [
    {
     "name": "stdout",
     "output_type": "stream",
     "text": [
      "1st owner    552\n",
      "2nd owner     66\n",
      "3rd owner      3\n",
      "4th owner      1\n",
      "Name: owner, dtype: int64\n",
      "Individual    619\n",
      "Dealer          3\n",
      "Name: seller_type, dtype: int64\n"
     ]
    }
   ],
   "source": [
    "# check distribution of categorical data\n",
    "print(bike_dataset.owner.value_counts())\n",
    "print(bike_dataset.seller_type.value_counts())"
   ]
  },
  {
   "cell_type": "code",
   "execution_count": 16,
   "id": "d9f9a6f9",
   "metadata": {
    "execution": {
     "iopub.execute_input": "2024-07-31T05:16:30.123003Z",
     "iopub.status.busy": "2024-07-31T05:16:30.122622Z",
     "iopub.status.idle": "2024-07-31T05:16:30.132842Z",
     "shell.execute_reply": "2024-07-31T05:16:30.131708Z"
    },
    "papermill": {
     "duration": 0.024797,
     "end_time": "2024-07-31T05:16:30.135146",
     "exception": false,
     "start_time": "2024-07-31T05:16:30.110349",
     "status": "completed"
    },
    "tags": []
   },
   "outputs": [],
   "source": [
    "# encoding \"Owner\" Column\n",
    "bike_dataset.replace({'owner':{'1st owner':0,'2nd owner':1,'3rd owner':2, '4th owner':3}},inplace=True)\n",
    "\n",
    "# encoding \"Seller_Type\" Column\n",
    "bike_dataset.replace({'seller_type':{'Dealer':0,'Individual':1}},inplace=True)"
   ]
  },
  {
   "cell_type": "markdown",
   "id": "c4e52218",
   "metadata": {
    "papermill": {
     "duration": 0.009962,
     "end_time": "2024-07-31T05:16:30.155475",
     "exception": false,
     "start_time": "2024-07-31T05:16:30.145513",
     "status": "completed"
    },
    "tags": []
   },
   "source": [
    "## LMS ALGORITHM\n"
   ]
  },
  {
   "cell_type": "code",
   "execution_count": 17,
   "id": "e46c6e95",
   "metadata": {
    "execution": {
     "iopub.execute_input": "2024-07-31T05:16:30.177579Z",
     "iopub.status.busy": "2024-07-31T05:16:30.176779Z",
     "iopub.status.idle": "2024-07-31T05:16:30.183248Z",
     "shell.execute_reply": "2024-07-31T05:16:30.182077Z"
    },
    "papermill": {
     "duration": 0.019845,
     "end_time": "2024-07-31T05:16:30.185526",
     "exception": false,
     "start_time": "2024-07-31T05:16:30.165681",
     "status": "completed"
    },
    "tags": []
   },
   "outputs": [],
   "source": [
    "# split data into X and Y\n",
    "X = bike_dataset.drop(['name','selling_price'],axis=1)\n",
    "Y = bike_dataset['selling_price']"
   ]
  },
  {
   "cell_type": "code",
   "execution_count": 35,
   "id": "70a4294b",
   "metadata": {},
   "outputs": [
    {
     "data": {
      "text/html": [
       "<div>\n",
       "<style scoped>\n",
       "    .dataframe tbody tr th:only-of-type {\n",
       "        vertical-align: middle;\n",
       "    }\n",
       "\n",
       "    .dataframe tbody tr th {\n",
       "        vertical-align: top;\n",
       "    }\n",
       "\n",
       "    .dataframe thead th {\n",
       "        text-align: right;\n",
       "    }\n",
       "</style>\n",
       "<table border=\"1\" class=\"dataframe\">\n",
       "  <thead>\n",
       "    <tr style=\"text-align: right;\">\n",
       "      <th></th>\n",
       "      <th>year</th>\n",
       "      <th>seller_type</th>\n",
       "      <th>owner</th>\n",
       "      <th>km_driven</th>\n",
       "      <th>ex_showroom_price</th>\n",
       "    </tr>\n",
       "  </thead>\n",
       "  <tbody>\n",
       "    <tr>\n",
       "      <th>2</th>\n",
       "      <td>2018</td>\n",
       "      <td>1</td>\n",
       "      <td>0</td>\n",
       "      <td>12000</td>\n",
       "      <td>148114.0</td>\n",
       "    </tr>\n",
       "    <tr>\n",
       "      <th>3</th>\n",
       "      <td>2015</td>\n",
       "      <td>1</td>\n",
       "      <td>0</td>\n",
       "      <td>23000</td>\n",
       "      <td>89643.0</td>\n",
       "    </tr>\n",
       "    <tr>\n",
       "      <th>5</th>\n",
       "      <td>2010</td>\n",
       "      <td>1</td>\n",
       "      <td>0</td>\n",
       "      <td>60000</td>\n",
       "      <td>53857.0</td>\n",
       "    </tr>\n",
       "    <tr>\n",
       "      <th>6</th>\n",
       "      <td>2018</td>\n",
       "      <td>1</td>\n",
       "      <td>0</td>\n",
       "      <td>17000</td>\n",
       "      <td>87719.0</td>\n",
       "    </tr>\n",
       "    <tr>\n",
       "      <th>9</th>\n",
       "      <td>2016</td>\n",
       "      <td>1</td>\n",
       "      <td>0</td>\n",
       "      <td>42000</td>\n",
       "      <td>60122.0</td>\n",
       "    </tr>\n",
       "    <tr>\n",
       "      <th>...</th>\n",
       "      <td>...</td>\n",
       "      <td>...</td>\n",
       "      <td>...</td>\n",
       "      <td>...</td>\n",
       "      <td>...</td>\n",
       "    </tr>\n",
       "    <tr>\n",
       "      <th>1056</th>\n",
       "      <td>2010</td>\n",
       "      <td>1</td>\n",
       "      <td>0</td>\n",
       "      <td>500000</td>\n",
       "      <td>52000.0</td>\n",
       "    </tr>\n",
       "    <tr>\n",
       "      <th>1057</th>\n",
       "      <td>2012</td>\n",
       "      <td>1</td>\n",
       "      <td>0</td>\n",
       "      <td>33000</td>\n",
       "      <td>51000.0</td>\n",
       "    </tr>\n",
       "    <tr>\n",
       "      <th>1058</th>\n",
       "      <td>2013</td>\n",
       "      <td>1</td>\n",
       "      <td>1</td>\n",
       "      <td>35000</td>\n",
       "      <td>57000.0</td>\n",
       "    </tr>\n",
       "    <tr>\n",
       "      <th>1059</th>\n",
       "      <td>2009</td>\n",
       "      <td>1</td>\n",
       "      <td>0</td>\n",
       "      <td>53000</td>\n",
       "      <td>58000.0</td>\n",
       "    </tr>\n",
       "    <tr>\n",
       "      <th>1060</th>\n",
       "      <td>2008</td>\n",
       "      <td>1</td>\n",
       "      <td>0</td>\n",
       "      <td>92233</td>\n",
       "      <td>75000.0</td>\n",
       "    </tr>\n",
       "  </tbody>\n",
       "</table>\n",
       "<p>622 rows × 5 columns</p>\n",
       "</div>"
      ],
      "text/plain": [
       "      year  seller_type  owner  km_driven  ex_showroom_price\n",
       "2     2018            1      0      12000           148114.0\n",
       "3     2015            1      0      23000            89643.0\n",
       "5     2010            1      0      60000            53857.0\n",
       "6     2018            1      0      17000            87719.0\n",
       "9     2016            1      0      42000            60122.0\n",
       "...    ...          ...    ...        ...                ...\n",
       "1056  2010            1      0     500000            52000.0\n",
       "1057  2012            1      0      33000            51000.0\n",
       "1058  2013            1      1      35000            57000.0\n",
       "1059  2009            1      0      53000            58000.0\n",
       "1060  2008            1      0      92233            75000.0\n",
       "\n",
       "[622 rows x 5 columns]"
      ]
     },
     "execution_count": 35,
     "metadata": {},
     "output_type": "execute_result"
    }
   ],
   "source": [
    "X"
   ]
  },
  {
   "cell_type": "code",
   "execution_count": 36,
   "id": "7eca4b96",
   "metadata": {},
   "outputs": [
    {
     "data": {
      "text/plain": [
       "2       150000\n",
       "3        65000\n",
       "5        18000\n",
       "6        78500\n",
       "9        50000\n",
       "         ...  \n",
       "1056     17000\n",
       "1057     16000\n",
       "1058     15000\n",
       "1059     12000\n",
       "1060     10000\n",
       "Name: selling_price, Length: 622, dtype: int64"
      ]
     },
     "execution_count": 36,
     "metadata": {},
     "output_type": "execute_result"
    }
   ],
   "source": [
    "Y"
   ]
  },
  {
   "cell_type": "markdown",
   "id": "b83dc712",
   "metadata": {},
   "source": [
    "### SCALING"
   ]
  },
  {
   "cell_type": "code",
   "execution_count": 38,
   "id": "4893b2a1",
   "metadata": {},
   "outputs": [],
   "source": [
    "scaler = StandardScaler()\n",
    "X_standardized = scaler.fit_transform(X)\n"
   ]
  },
  {
   "cell_type": "code",
   "execution_count": 39,
   "id": "4b918e77",
   "metadata": {
    "execution": {
     "iopub.execute_input": "2024-07-31T05:16:30.207929Z",
     "iopub.status.busy": "2024-07-31T05:16:30.207503Z",
     "iopub.status.idle": "2024-07-31T05:16:30.216370Z",
     "shell.execute_reply": "2024-07-31T05:16:30.215236Z"
    },
    "papermill": {
     "duration": 0.023008,
     "end_time": "2024-07-31T05:16:30.218878",
     "exception": false,
     "start_time": "2024-07-31T05:16:30.195870",
     "status": "completed"
    },
    "tags": []
   },
   "outputs": [],
   "source": [
    "# split data into train and test\n",
    "X_train, X_test, Y_train, Y_test = train_test_split(X_standardized, Y, test_size = 0.1, random_state=2)"
   ]
  },
  {
   "cell_type": "code",
   "execution_count": 40,
   "id": "d5d59b1c",
   "metadata": {},
   "outputs": [],
   "source": [
    "def LMS_algorithm(X, y, learning_rate, epochs):\n",
    "    m, n = X.shape  # Number of samples (m) and features (n)\n",
    "    # Randomly initialize weights instead of zeros\n",
    "    weights = np.random.randn(n) * 0.01  # Initialize small random weights\n",
    "\n",
    "    bias = 0  # Initialize bias term\n",
    "    mse_list = []  # List to store Mean Squared Error for each epoch\n",
    "\n",
    "    # Training loop for LMS\n",
    "    for epoch in range(epochs):\n",
    "        y_pred = np.dot(X, weights) + bias  # Linear prediction (y = Xw + b)\n",
    "        error = y_pred - y  # Error calculation (predicted - actual)\n",
    "\n",
    "        # Update weights and bias using the LMS rule\n",
    "        weights -= learning_rate * (1/m) * np.dot(X.T, error)\n",
    "        bias -= learning_rate * (1/m) * np.sum(error)\n",
    "\n",
    "        # Calculate Mean Squared Error (MSE)\n",
    "        mse = (1/m) * np.sum(error ** 2)\n",
    "        mse_list.append(mse)\n",
    "\n",
    "    return weights, bias, mse_list"
   ]
  },
  {
   "cell_type": "markdown",
   "id": "e453baba",
   "metadata": {},
   "source": [
    "## Learning_rate = 0.001"
   ]
  },
  {
   "cell_type": "code",
   "execution_count": 51,
   "id": "eda62340",
   "metadata": {},
   "outputs": [],
   "source": [
    "learning_rate = 0.001  # Initial learning rate (step-size)\n",
    "epochs = 5000  # Number of iterations\n",
    "\n",
    "# Training the model using the LMS algorithm\n",
    "weights, bias, mse_list = LMS_algorithm(X_train, Y_train, learning_rate, epochs)"
   ]
  },
  {
   "cell_type": "code",
   "execution_count": 52,
   "id": "01013e7a",
   "metadata": {},
   "outputs": [
    {
     "data": {
      "image/png": "[encoded data removed]",
      "text/plain": [
       "<Figure size 720x432 with 1 Axes>"
      ]
     },
     "metadata": {
      "needs_background": "light"
     },
     "output_type": "display_data"
    },
    {
     "name": "stdout",
     "output_type": "stream",
     "text": [
      "Weights: [14179.52334933   146.90454057 -2220.87944877  -766.49016538\n",
      " 53739.47430851]\n",
      "Bias: 59618.05221096964\n"
     ]
    }
   ],
   "source": [
    "plt.figure(figsize=(10,6))\n",
    "plt.plot(range(epochs), mse_list, label=f\"Learning Rate: {learning_rate}\")\n",
    "plt.xlabel(\"Epochs\")\n",
    "plt.ylabel(\"Mean Squared Error (MSE)\")\n",
    "plt.title(\"Learning Curve for LMS Algorithm on Diabetes Dataset\")\n",
    "plt.legend()\n",
    "plt.grid(True)\n",
    "plt.show()\n",
    "\n",
    "# Display the final weights and bias\n",
    "print(\"Weights:\", weights)\n",
    "print(\"Bias:\", bias)"
   ]
  },
  {
   "cell_type": "markdown",
   "id": "1c8f6d5a",
   "metadata": {},
   "source": [
    "## learning_rate = 0.01"
   ]
  },
  {
   "cell_type": "code",
   "execution_count": 43,
   "id": "a5fef981",
   "metadata": {},
   "outputs": [],
   "source": [
    "learning_rate = 0.01  # Initial learning rate (step-size)\n",
    "epochs = 1000  # Number of iterations\n",
    "\n",
    "# Training the model using the LMS algorithm\n",
    "weights, bias, mse_list = LMS_algorithm(X_train, Y_train, learning_rate, epochs)"
   ]
  },
  {
   "cell_type": "code",
   "execution_count": 44,
   "id": "b86a6e99",
   "metadata": {},
   "outputs": [
    {
     "data": {
      "image/png": "[encoded data removed]",
      "text/plain": [
       "<Figure size 720x432 with 1 Axes>"
      ]
     },
     "metadata": {
      "needs_background": "light"
     },
     "output_type": "display_data"
    },
    {
     "name": "stdout",
     "output_type": "stream",
     "text": [
      "Weights: [14139.15503541  -330.65543094 -2425.12953016  -594.41087643\n",
      " 54171.43731397]\n",
      "Bias: 60040.54599617117\n"
     ]
    }
   ],
   "source": [
    "# Plotting the learning curve (MSE vs. epochs)\n",
    "plt.figure(figsize=(10,6))\n",
    "plt.plot(range(epochs), mse_list, label=f\"Learning Rate: {learning_rate}\")\n",
    "plt.xlabel(\"Epochs\")\n",
    "plt.ylabel(\"Mean Squared Error (MSE)\")\n",
    "plt.title(\"Learning Curve for LMS Algorithm on Diabetes Dataset\")\n",
    "plt.legend()\n",
    "plt.grid(True)\n",
    "plt.show()\n",
    "\n",
    "# Display the final weights and bias\n",
    "print(\"Weights:\", weights)\n",
    "print(\"Bias:\", bias)"
   ]
  },
  {
   "cell_type": "markdown",
   "id": "c85700a0",
   "metadata": {},
   "source": [
    "## learning_rate = 0.1"
   ]
  },
  {
   "cell_type": "code",
   "execution_count": 80,
   "id": "15c49d2b",
   "metadata": {},
   "outputs": [],
   "source": [
    "learning_rate = 0.1  # Initial learning rate (step-size)\n",
    "epochs = 100  # Number of iterations\n",
    "\n",
    "# Training the model using the LMS algorithm\n",
    "weights, bias, mse_list = LMS_algorithm(X_train, Y_train, learning_rate, epochs)"
   ]
  },
  {
   "cell_type": "code",
   "execution_count": 81,
   "id": "416ef51c",
   "metadata": {},
   "outputs": [
    {
     "data": {
      "image/png": "[encoded data removed]",
      "text/plain": [
       "<Figure size 720x432 with 1 Axes>"
      ]
     },
     "metadata": {
      "needs_background": "light"
     },
     "output_type": "display_data"
    },
    {
     "name": "stdout",
     "output_type": "stream",
     "text": [
      "Weights: [14138.79568526  -336.21567659 -2426.30328992  -593.91582769\n",
      " 54172.93707564]\n",
      "Bias: 60041.86056145128\n"
     ]
    }
   ],
   "source": [
    "plt.figure(figsize=(10,6))\n",
    "plt.plot(range(epochs), mse_list, label=f\"Learning Rate: {learning_rate}\")\n",
    "plt.xlabel(\"Epochs\")\n",
    "plt.ylabel(\"Mean Squared Error (MSE)\")\n",
    "plt.title(\"Learning Curve for LMS Algorithm on Diabetes Dataset\")\n",
    "plt.legend()\n",
    "plt.grid(True)\n",
    "plt.show()\n",
    "\n",
    "# Display the final weights and bias\n",
    "print(\"Weights:\", weights)\n",
    "print(\"Bias:\", bias)"
   ]
  },
  {
   "cell_type": "markdown",
   "id": "0cc5caf1",
   "metadata": {},
   "source": [
    "# ALL LEARNING RATES VIEWED TOGETHER"
   ]
  },
  {
   "cell_type": "code",
   "execution_count": 82,
   "id": "2a064263",
   "metadata": {},
   "outputs": [
    {
     "data": {
      "image/png": "[encoded data removed]",
      "text/plain": [
       "<Figure size 720x432 with 1 Axes>"
      ]
     },
     "metadata": {
      "needs_background": "light"
     },
     "output_type": "display_data"
    },
    {
     "name": "stdout",
     "output_type": "stream",
     "text": [
      "Test MSE for step-size 0.001: 3223041341.6338\n",
      "Test MSE for step-size 0.01: 3222032345.8575\n",
      "Test MSE for step-size 0.05: 3221948505.1300\n",
      "Test MSE for step-size 0.1: 3221948505.1300\n"
     ]
    }
   ],
   "source": [
    "etas = [0.001, 0.01,  0.05, 0.1,]\n",
    "epochs = 2000\n",
    "weights = {}\n",
    "errors = {}\n",
    "\n",
    "# Training for different step-sizes\n",
    "for eta in etas:\n",
    "    W, bias, error_list = LMS_algorithm(X_train, Y_train, eta, epochs)\n",
    "    weights[eta] = W\n",
    "    errors[eta] = error_list\n",
    "\n",
    "# Plot the convergence of error for each step-size\n",
    "plt.figure(figsize=(10, 6))\n",
    "for eta in etas:\n",
    "    plt.plot(errors[eta], label=f'Step-size = {eta}')\n",
    "plt.title('Convergence of Mean Squared Error for Different Step-sizes')\n",
    "plt.xlabel('Epochs')\n",
    "plt.ylabel('Mean Squared Error')\n",
    "plt.legend()\n",
    "plt.show()\n",
    "\n",
    "# Evaluate on test set\n",
    "def evaluate(W, X_test, y_test):\n",
    "    y_pred = np.dot(X_test, W)\n",
    "    mse = np.mean((y_test - y_pred) ** 2)\n",
    "    return mse\n",
    "\n",
    "# Evaluate each model with the test set\n",
    "for eta in etas:\n",
    "    W = weights[eta]\n",
    "    test_mse = evaluate(W, X_test, Y_test)\n",
    "    print(f'Test MSE for step-size {eta}: {test_mse:.4f}')"
   ]
  },
  {
   "cell_type": "markdown",
   "id": "1cd3fa38",
   "metadata": {},
   "source": [
    "# BEST PERFORMING LEARNING RATES 0.05 AND 0.1"
   ]
  },
  {
   "cell_type": "code",
   "execution_count": 83,
   "id": "7d41fa09",
   "metadata": {},
   "outputs": [
    {
     "data": {
      "image/png": "[encoded data removed]",
      "text/plain": [
       "<Figure size 720x432 with 1 Axes>"
      ]
     },
     "metadata": {
      "needs_background": "light"
     },
     "output_type": "display_data"
    },
    {
     "name": "stdout",
     "output_type": "stream",
     "text": [
      "Test MSE for step-size 0.05: 3239031091.9992\n",
      "Test MSE for step-size 0.1: 3225166472.3408\n"
     ]
    }
   ],
   "source": [
    "etas = [ 0.05, 0.1 ]\n",
    "epochs = 100\n",
    "weights = {}\n",
    "errors = {}\n",
    "\n",
    "# Training for different step-sizes\n",
    "for eta in etas:\n",
    "    W, bias, error_list = LMS_algorithm(X_train, Y_train, eta, epochs)\n",
    "    weights[eta] = W\n",
    "    errors[eta] = error_list\n",
    "\n",
    "# Plot the convergence of error for each step-size\n",
    "plt.figure(figsize=(10, 6))\n",
    "for eta in etas:\n",
    "    plt.plot(errors[eta], label=f'Step-size = {eta}')\n",
    "plt.title('Convergence of Mean Squared Error for Different Step-sizes')\n",
    "plt.xlabel('Epochs')\n",
    "plt.ylabel('Mean Squared Error')\n",
    "plt.legend()\n",
    "plt.show()\n",
    "\n",
    "# Evaluate on test set\n",
    "def evaluate(W, X_test, y_test):\n",
    "    y_pred = np.dot(X_test, W)\n",
    "    mse = np.mean((y_test - y_pred) ** 2)\n",
    "    return mse\n",
    "\n",
    "# Evaluate each model with the test set\n",
    "for eta in etas:\n",
    "    W = weights[eta]\n",
    "    test_mse = evaluate(W, X_test, Y_test)\n",
    "    print(f'Test MSE for step-size {eta}: {test_mse:.4f}')"
   ]
  },
  {
   "cell_type": "code",
   "execution_count": null,
   "id": "97900c8a",
   "metadata": {},
   "outputs": [],
   "source": []
  }
 ],
 "metadata": {
  "kaggle": {
   "accelerator": "none",
   "dataSources": [
    {
     "datasetId": 765788,
     "sourceId": 1320808,
     "sourceType": "datasetVersion"
    }
   ],
   "dockerImageVersionId": 30746,
   "isGpuEnabled": false,
   "isInternetEnabled": true,
   "language": "python",
   "sourceType": "notebook"
  },
  "kernelspec": {
   "display_name": "Python 3",
   "language": "python",
   "name": "python3"
  },
  "language_info": {
   "codemirror_mode": {
    "name": "ipython",
    "version": 3
   },
   "file_extension": ".py",
   "mimetype": "text/x-python",
   "name": "python",
   "nbconvert_exporter": "python",
   "pygments_lexer": "ipython3",
   "version": "3.10.0"
  },
  "papermill": {
   "default_parameters": {},
   "duration": 8.611362,
   "end_time": "2024-07-31T05:16:32.581044",
   "environment_variables": {},
   "exception": null,
   "input_path": "__notebook__.ipynb",
   "output_path": "__notebook__.ipynb",
   "parameters": {},
   "start_time": "2024-07-31T05:16:23.969682",
   "version": "2.5.0"
  }
 },
 "nbformat": 4,
 "nbformat_minor": 5
}
